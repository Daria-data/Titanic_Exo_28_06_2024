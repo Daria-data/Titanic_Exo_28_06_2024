{
 "cells": [
  {
   "cell_type": "markdown",
   "metadata": {},
   "source": [
    "# Projet Titanic  "
   ]
  },
  {
   "cell_type": "markdown",
   "metadata": {},
   "source": [
    "## Dataset\n",
    "\n",
    "On considère pour ce brief , le dataset Titanic qui représente les données des passagers (utilisé généralement pour prédire les taux de survie des passagers.) \n",
    "\n",
    "Le dataset Titanic contient plusieurs colonnes décrivant diverses informations sur les passagers du Titanic, leur classe, leur âge, leur sexe, leur tarif, etc..\n",
    "\n",
    "Voici la description des principales colonnes de ce dataset afin de pouvoir utiliser ces données pour effectuer diverses analyses et explorations :\n",
    "\n",
    "1. **survived :** Cette colonne indique si le passager a survécu ou non au naufrage du Titanic. Les valeurs possibles sont 0 (n'est pas survécu) et 1 (a survécu).\n",
    "\n",
    "2. **pclass :** Cette colonne représente la classe du billet du passager, où 1 correspond à la première classe, 2 à la deuxième classe et 3 à la troisième classe.\n",
    "\n",
    "3. **sex :** Cette colonne indique le sexe du passager, c'est-à-dire s'il s'agit d'un homme ou d'une femme.\n",
    "\n",
    "4. **age :** La colonne 'age' contient l'âge du passager. Il peut y avoir des valeurs manquantes dans cette colonne.\n",
    "\n",
    "5. **sibsp :** Cette colonne représente le nombre de frères, de sœurs, d'époux ou d'épouses du passager à bord du Titanic.\n",
    "\n",
    "6. **parch :** La colonne 'parch' indique le nombre de parents ou d'enfants du passager à bord du Titanic.\n",
    "\n",
    "7. **fare :** Cette colonne donne le tarif payé par le passager pour son billet.\n",
    "\n",
    "8. **embarked :** La colonne 'embarked' indique le port d'embarquement du passager. Les valeurs possibles sont C (Cherbourg), Q (Queenstown) et S (Southampton).\n",
    "\n",
    "9. **class :** Cette colonne est similaire à 'pclass' et représente également la classe du billet, mais sous forme de chaînes de caractères (1ère, 2ème, 3ème).\n",
    "\n",
    "10. **who :** La colonne 'who' catégorise les passagers en trois groupes : homme, femme ou enfant.\n",
    "\n",
    "11. **adult_male :** Cette colonne indique si le passager est un homme adulte (True/False).\n",
    "\n",
    "12. **deck :** La colonne 'deck' contient des informations sur le pont où le passager avait sa cabine. Il peut y avoir des valeurs manquantes dans cette colonne.\n",
    "\n",
    "13. **embark_town :** Cette colonne est similaire à 'embarked' et indique également le nom de la ville d'embarquement.\n",
    "\n",
    "14. **alive :** Cette colonne est similaire à 'survived' et indique si le passager est en vie (yes) ou non (no).\n",
    "\n",
    "15. **alone :** La colonne 'alone' indique si le passager voyageait seul (True/False).\n",
    "\n",
    "\n",
    "\n",
    "Objectifs:\n",
    "\n",
    "- charger le dataset et vérifier la qualité des données (nombre de lignes, nombre et types de colonnes, valeurs manquantes, valeurs aberrantes..)\n",
    "\n",
    "-Bonus: faire une petite analyse exploratoire du dataset (avec eventuellement une visualisation)..\n"
   ]
  },
  {
   "cell_type": "code",
   "metadata": {
    "ExecuteTime": {
     "end_time": "2024-06-27T10:34:40.529224Z",
     "start_time": "2024-06-27T10:34:40.508801Z"
    }
   },
   "source": [
    "import seaborn as sns\n",
    "import matplotlib.pyplot as plt\n",
    "%matplotlib inline\n",
    "import pandas as pd"
   ],
   "outputs": [],
   "execution_count": 1
  },
  {
   "cell_type": "code",
   "metadata": {
    "ExecuteTime": {
     "end_time": "2024-06-27T10:34:47.118053Z",
     "start_time": "2024-06-27T10:34:47.114577Z"
    }
   },
   "source": [
    "sns.set_style('whitegrid')"
   ],
   "outputs": [],
   "execution_count": 2
  },
  {
   "cell_type": "code",
   "metadata": {
    "ExecuteTime": {
     "end_time": "2024-06-27T10:34:50.415413Z",
     "start_time": "2024-06-27T10:34:49.628467Z"
    }
   },
   "source": [
    "titanic_df = sns.load_dataset('titanic')"
   ],
   "outputs": [],
   "execution_count": 3
  },
  {
   "cell_type": "code",
   "metadata": {
    "scrolled": true,
    "ExecuteTime": {
     "end_time": "2024-06-27T10:35:12.824749Z",
     "start_time": "2024-06-27T10:35:12.808993Z"
    }
   },
   "source": "titanic_df.head()",
   "outputs": [
    {
     "data": {
      "text/plain": [
       "   survived  pclass     sex   age  sibsp  parch     fare embarked  class  \\\n",
       "0         0       3    male  22.0      1      0   7.2500        S  Third   \n",
       "1         1       1  female  38.0      1      0  71.2833        C  First   \n",
       "2         1       3  female  26.0      0      0   7.9250        S  Third   \n",
       "3         1       1  female  35.0      1      0  53.1000        S  First   \n",
       "4         0       3    male  35.0      0      0   8.0500        S  Third   \n",
       "\n",
       "     who  adult_male deck  embark_town alive  alone  \n",
       "0    man        True  NaN  Southampton    no  False  \n",
       "1  woman       False    C    Cherbourg   yes  False  \n",
       "2  woman       False  NaN  Southampton   yes   True  \n",
       "3  woman       False    C  Southampton   yes  False  \n",
       "4    man        True  NaN  Southampton    no   True  "
      ],
      "text/html": [
       "<div>\n",
       "<style scoped>\n",
       "    .dataframe tbody tr th:only-of-type {\n",
       "        vertical-align: middle;\n",
       "    }\n",
       "\n",
       "    .dataframe tbody tr th {\n",
       "        vertical-align: top;\n",
       "    }\n",
       "\n",
       "    .dataframe thead th {\n",
       "        text-align: right;\n",
       "    }\n",
       "</style>\n",
       "<table border=\"1\" class=\"dataframe\">\n",
       "  <thead>\n",
       "    <tr style=\"text-align: right;\">\n",
       "      <th></th>\n",
       "      <th>survived</th>\n",
       "      <th>pclass</th>\n",
       "      <th>sex</th>\n",
       "      <th>age</th>\n",
       "      <th>sibsp</th>\n",
       "      <th>parch</th>\n",
       "      <th>fare</th>\n",
       "      <th>embarked</th>\n",
       "      <th>class</th>\n",
       "      <th>who</th>\n",
       "      <th>adult_male</th>\n",
       "      <th>deck</th>\n",
       "      <th>embark_town</th>\n",
       "      <th>alive</th>\n",
       "      <th>alone</th>\n",
       "    </tr>\n",
       "  </thead>\n",
       "  <tbody>\n",
       "    <tr>\n",
       "      <th>0</th>\n",
       "      <td>0</td>\n",
       "      <td>3</td>\n",
       "      <td>male</td>\n",
       "      <td>22.0</td>\n",
       "      <td>1</td>\n",
       "      <td>0</td>\n",
       "      <td>7.2500</td>\n",
       "      <td>S</td>\n",
       "      <td>Third</td>\n",
       "      <td>man</td>\n",
       "      <td>True</td>\n",
       "      <td>NaN</td>\n",
       "      <td>Southampton</td>\n",
       "      <td>no</td>\n",
       "      <td>False</td>\n",
       "    </tr>\n",
       "    <tr>\n",
       "      <th>1</th>\n",
       "      <td>1</td>\n",
       "      <td>1</td>\n",
       "      <td>female</td>\n",
       "      <td>38.0</td>\n",
       "      <td>1</td>\n",
       "      <td>0</td>\n",
       "      <td>71.2833</td>\n",
       "      <td>C</td>\n",
       "      <td>First</td>\n",
       "      <td>woman</td>\n",
       "      <td>False</td>\n",
       "      <td>C</td>\n",
       "      <td>Cherbourg</td>\n",
       "      <td>yes</td>\n",
       "      <td>False</td>\n",
       "    </tr>\n",
       "    <tr>\n",
       "      <th>2</th>\n",
       "      <td>1</td>\n",
       "      <td>3</td>\n",
       "      <td>female</td>\n",
       "      <td>26.0</td>\n",
       "      <td>0</td>\n",
       "      <td>0</td>\n",
       "      <td>7.9250</td>\n",
       "      <td>S</td>\n",
       "      <td>Third</td>\n",
       "      <td>woman</td>\n",
       "      <td>False</td>\n",
       "      <td>NaN</td>\n",
       "      <td>Southampton</td>\n",
       "      <td>yes</td>\n",
       "      <td>True</td>\n",
       "    </tr>\n",
       "    <tr>\n",
       "      <th>3</th>\n",
       "      <td>1</td>\n",
       "      <td>1</td>\n",
       "      <td>female</td>\n",
       "      <td>35.0</td>\n",
       "      <td>1</td>\n",
       "      <td>0</td>\n",
       "      <td>53.1000</td>\n",
       "      <td>S</td>\n",
       "      <td>First</td>\n",
       "      <td>woman</td>\n",
       "      <td>False</td>\n",
       "      <td>C</td>\n",
       "      <td>Southampton</td>\n",
       "      <td>yes</td>\n",
       "      <td>False</td>\n",
       "    </tr>\n",
       "    <tr>\n",
       "      <th>4</th>\n",
       "      <td>0</td>\n",
       "      <td>3</td>\n",
       "      <td>male</td>\n",
       "      <td>35.0</td>\n",
       "      <td>0</td>\n",
       "      <td>0</td>\n",
       "      <td>8.0500</td>\n",
       "      <td>S</td>\n",
       "      <td>Third</td>\n",
       "      <td>man</td>\n",
       "      <td>True</td>\n",
       "      <td>NaN</td>\n",
       "      <td>Southampton</td>\n",
       "      <td>no</td>\n",
       "      <td>True</td>\n",
       "    </tr>\n",
       "  </tbody>\n",
       "</table>\n",
       "</div>"
      ]
     },
     "execution_count": 5,
     "metadata": {},
     "output_type": "execute_result"
    }
   ],
   "execution_count": 5
  },
  {
   "metadata": {
    "ExecuteTime": {
     "end_time": "2024-06-27T10:35:46.803679Z",
     "start_time": "2024-06-27T10:35:46.794181Z"
    }
   },
   "cell_type": "code",
   "source": "titanic_df.shape",
   "outputs": [
    {
     "data": {
      "text/plain": [
       "(891, 15)"
      ]
     },
     "execution_count": 6,
     "metadata": {},
     "output_type": "execute_result"
    }
   ],
   "execution_count": 6
  },
  {
   "cell_type": "markdown",
   "metadata": {},
   "source": [
    "## Partie 1: Prise en main du Dataset"
   ]
  },
  {
   "cell_type": "markdown",
   "metadata": {},
   "source": [
    "\n",
    "###  Vérifier si Données Manquantes : \n",
    "\n",
    "Des valeurs manquantes peuvent être présentes dans certaines colonnes, par exemple, l'âge de certains passagers ..\n",
    "\n",
    "vérifier les valeurs manquantes des colonnes et proposer une solution pour y remédier."
   ]
  },
  {
   "cell_type": "code",
   "metadata": {
    "ExecuteTime": {
     "end_time": "2024-06-27T10:38:19.932632Z",
     "start_time": "2024-06-27T10:38:19.901216Z"
    }
   },
   "source": "pd.isna(titanic_df)\n",
   "outputs": [
    {
     "data": {
      "text/plain": [
       "     survived  pclass    sex    age  sibsp  parch   fare  embarked  class  \\\n",
       "0       False   False  False  False  False  False  False     False  False   \n",
       "1       False   False  False  False  False  False  False     False  False   \n",
       "2       False   False  False  False  False  False  False     False  False   \n",
       "3       False   False  False  False  False  False  False     False  False   \n",
       "4       False   False  False  False  False  False  False     False  False   \n",
       "..        ...     ...    ...    ...    ...    ...    ...       ...    ...   \n",
       "886     False   False  False  False  False  False  False     False  False   \n",
       "887     False   False  False  False  False  False  False     False  False   \n",
       "888     False   False  False   True  False  False  False     False  False   \n",
       "889     False   False  False  False  False  False  False     False  False   \n",
       "890     False   False  False  False  False  False  False     False  False   \n",
       "\n",
       "       who  adult_male   deck  embark_town  alive  alone  \n",
       "0    False       False   True        False  False  False  \n",
       "1    False       False  False        False  False  False  \n",
       "2    False       False   True        False  False  False  \n",
       "3    False       False  False        False  False  False  \n",
       "4    False       False   True        False  False  False  \n",
       "..     ...         ...    ...          ...    ...    ...  \n",
       "886  False       False   True        False  False  False  \n",
       "887  False       False  False        False  False  False  \n",
       "888  False       False   True        False  False  False  \n",
       "889  False       False  False        False  False  False  \n",
       "890  False       False   True        False  False  False  \n",
       "\n",
       "[891 rows x 15 columns]"
      ],
      "text/html": [
       "<div>\n",
       "<style scoped>\n",
       "    .dataframe tbody tr th:only-of-type {\n",
       "        vertical-align: middle;\n",
       "    }\n",
       "\n",
       "    .dataframe tbody tr th {\n",
       "        vertical-align: top;\n",
       "    }\n",
       "\n",
       "    .dataframe thead th {\n",
       "        text-align: right;\n",
       "    }\n",
       "</style>\n",
       "<table border=\"1\" class=\"dataframe\">\n",
       "  <thead>\n",
       "    <tr style=\"text-align: right;\">\n",
       "      <th></th>\n",
       "      <th>survived</th>\n",
       "      <th>pclass</th>\n",
       "      <th>sex</th>\n",
       "      <th>age</th>\n",
       "      <th>sibsp</th>\n",
       "      <th>parch</th>\n",
       "      <th>fare</th>\n",
       "      <th>embarked</th>\n",
       "      <th>class</th>\n",
       "      <th>who</th>\n",
       "      <th>adult_male</th>\n",
       "      <th>deck</th>\n",
       "      <th>embark_town</th>\n",
       "      <th>alive</th>\n",
       "      <th>alone</th>\n",
       "    </tr>\n",
       "  </thead>\n",
       "  <tbody>\n",
       "    <tr>\n",
       "      <th>0</th>\n",
       "      <td>False</td>\n",
       "      <td>False</td>\n",
       "      <td>False</td>\n",
       "      <td>False</td>\n",
       "      <td>False</td>\n",
       "      <td>False</td>\n",
       "      <td>False</td>\n",
       "      <td>False</td>\n",
       "      <td>False</td>\n",
       "      <td>False</td>\n",
       "      <td>False</td>\n",
       "      <td>True</td>\n",
       "      <td>False</td>\n",
       "      <td>False</td>\n",
       "      <td>False</td>\n",
       "    </tr>\n",
       "    <tr>\n",
       "      <th>1</th>\n",
       "      <td>False</td>\n",
       "      <td>False</td>\n",
       "      <td>False</td>\n",
       "      <td>False</td>\n",
       "      <td>False</td>\n",
       "      <td>False</td>\n",
       "      <td>False</td>\n",
       "      <td>False</td>\n",
       "      <td>False</td>\n",
       "      <td>False</td>\n",
       "      <td>False</td>\n",
       "      <td>False</td>\n",
       "      <td>False</td>\n",
       "      <td>False</td>\n",
       "      <td>False</td>\n",
       "    </tr>\n",
       "    <tr>\n",
       "      <th>2</th>\n",
       "      <td>False</td>\n",
       "      <td>False</td>\n",
       "      <td>False</td>\n",
       "      <td>False</td>\n",
       "      <td>False</td>\n",
       "      <td>False</td>\n",
       "      <td>False</td>\n",
       "      <td>False</td>\n",
       "      <td>False</td>\n",
       "      <td>False</td>\n",
       "      <td>False</td>\n",
       "      <td>True</td>\n",
       "      <td>False</td>\n",
       "      <td>False</td>\n",
       "      <td>False</td>\n",
       "    </tr>\n",
       "    <tr>\n",
       "      <th>3</th>\n",
       "      <td>False</td>\n",
       "      <td>False</td>\n",
       "      <td>False</td>\n",
       "      <td>False</td>\n",
       "      <td>False</td>\n",
       "      <td>False</td>\n",
       "      <td>False</td>\n",
       "      <td>False</td>\n",
       "      <td>False</td>\n",
       "      <td>False</td>\n",
       "      <td>False</td>\n",
       "      <td>False</td>\n",
       "      <td>False</td>\n",
       "      <td>False</td>\n",
       "      <td>False</td>\n",
       "    </tr>\n",
       "    <tr>\n",
       "      <th>4</th>\n",
       "      <td>False</td>\n",
       "      <td>False</td>\n",
       "      <td>False</td>\n",
       "      <td>False</td>\n",
       "      <td>False</td>\n",
       "      <td>False</td>\n",
       "      <td>False</td>\n",
       "      <td>False</td>\n",
       "      <td>False</td>\n",
       "      <td>False</td>\n",
       "      <td>False</td>\n",
       "      <td>True</td>\n",
       "      <td>False</td>\n",
       "      <td>False</td>\n",
       "      <td>False</td>\n",
       "    </tr>\n",
       "    <tr>\n",
       "      <th>...</th>\n",
       "      <td>...</td>\n",
       "      <td>...</td>\n",
       "      <td>...</td>\n",
       "      <td>...</td>\n",
       "      <td>...</td>\n",
       "      <td>...</td>\n",
       "      <td>...</td>\n",
       "      <td>...</td>\n",
       "      <td>...</td>\n",
       "      <td>...</td>\n",
       "      <td>...</td>\n",
       "      <td>...</td>\n",
       "      <td>...</td>\n",
       "      <td>...</td>\n",
       "      <td>...</td>\n",
       "    </tr>\n",
       "    <tr>\n",
       "      <th>886</th>\n",
       "      <td>False</td>\n",
       "      <td>False</td>\n",
       "      <td>False</td>\n",
       "      <td>False</td>\n",
       "      <td>False</td>\n",
       "      <td>False</td>\n",
       "      <td>False</td>\n",
       "      <td>False</td>\n",
       "      <td>False</td>\n",
       "      <td>False</td>\n",
       "      <td>False</td>\n",
       "      <td>True</td>\n",
       "      <td>False</td>\n",
       "      <td>False</td>\n",
       "      <td>False</td>\n",
       "    </tr>\n",
       "    <tr>\n",
       "      <th>887</th>\n",
       "      <td>False</td>\n",
       "      <td>False</td>\n",
       "      <td>False</td>\n",
       "      <td>False</td>\n",
       "      <td>False</td>\n",
       "      <td>False</td>\n",
       "      <td>False</td>\n",
       "      <td>False</td>\n",
       "      <td>False</td>\n",
       "      <td>False</td>\n",
       "      <td>False</td>\n",
       "      <td>False</td>\n",
       "      <td>False</td>\n",
       "      <td>False</td>\n",
       "      <td>False</td>\n",
       "    </tr>\n",
       "    <tr>\n",
       "      <th>888</th>\n",
       "      <td>False</td>\n",
       "      <td>False</td>\n",
       "      <td>False</td>\n",
       "      <td>True</td>\n",
       "      <td>False</td>\n",
       "      <td>False</td>\n",
       "      <td>False</td>\n",
       "      <td>False</td>\n",
       "      <td>False</td>\n",
       "      <td>False</td>\n",
       "      <td>False</td>\n",
       "      <td>True</td>\n",
       "      <td>False</td>\n",
       "      <td>False</td>\n",
       "      <td>False</td>\n",
       "    </tr>\n",
       "    <tr>\n",
       "      <th>889</th>\n",
       "      <td>False</td>\n",
       "      <td>False</td>\n",
       "      <td>False</td>\n",
       "      <td>False</td>\n",
       "      <td>False</td>\n",
       "      <td>False</td>\n",
       "      <td>False</td>\n",
       "      <td>False</td>\n",
       "      <td>False</td>\n",
       "      <td>False</td>\n",
       "      <td>False</td>\n",
       "      <td>False</td>\n",
       "      <td>False</td>\n",
       "      <td>False</td>\n",
       "      <td>False</td>\n",
       "    </tr>\n",
       "    <tr>\n",
       "      <th>890</th>\n",
       "      <td>False</td>\n",
       "      <td>False</td>\n",
       "      <td>False</td>\n",
       "      <td>False</td>\n",
       "      <td>False</td>\n",
       "      <td>False</td>\n",
       "      <td>False</td>\n",
       "      <td>False</td>\n",
       "      <td>False</td>\n",
       "      <td>False</td>\n",
       "      <td>False</td>\n",
       "      <td>True</td>\n",
       "      <td>False</td>\n",
       "      <td>False</td>\n",
       "      <td>False</td>\n",
       "    </tr>\n",
       "  </tbody>\n",
       "</table>\n",
       "<p>891 rows × 15 columns</p>\n",
       "</div>"
      ]
     },
     "execution_count": 8,
     "metadata": {},
     "output_type": "execute_result"
    }
   ],
   "execution_count": 8
  },
  {
   "metadata": {
    "ExecuteTime": {
     "end_time": "2024-06-27T10:47:33.374228Z",
     "start_time": "2024-06-27T10:47:33.352791Z"
    }
   },
   "cell_type": "code",
   "source": [
    "titanic_df.describe()\n",
    "titanic_df.info()"
   ],
   "outputs": [
    {
     "name": "stdout",
     "output_type": "stream",
     "text": [
      "<class 'pandas.core.frame.DataFrame'>\n",
      "RangeIndex: 891 entries, 0 to 890\n",
      "Data columns (total 15 columns):\n",
      " #   Column       Non-Null Count  Dtype   \n",
      "---  ------       --------------  -----   \n",
      " 0   survived     891 non-null    int64   \n",
      " 1   pclass       891 non-null    int64   \n",
      " 2   sex          891 non-null    object  \n",
      " 3   age          714 non-null    float64 \n",
      " 4   sibsp        891 non-null    int64   \n",
      " 5   parch        891 non-null    int64   \n",
      " 6   fare         891 non-null    float64 \n",
      " 7   embarked     889 non-null    object  \n",
      " 8   class        891 non-null    category\n",
      " 9   who          891 non-null    object  \n",
      " 10  adult_male   891 non-null    bool    \n",
      " 11  deck         203 non-null    category\n",
      " 12  embark_town  889 non-null    object  \n",
      " 13  alive        891 non-null    object  \n",
      " 14  alone        891 non-null    bool    \n",
      "dtypes: bool(2), category(2), float64(2), int64(4), object(5)\n",
      "memory usage: 80.7+ KB\n"
     ]
    }
   ],
   "execution_count": 12
  },
  {
   "metadata": {
    "ExecuteTime": {
     "end_time": "2024-06-27T10:41:38.752281Z",
     "start_time": "2024-06-27T10:41:38.744699Z"
    }
   },
   "cell_type": "code",
   "source": [
    "missing_values = titanic_df.isnull().sum()\n",
    "missing_values"
   ],
   "outputs": [
    {
     "data": {
      "text/plain": [
       "survived         0\n",
       "pclass           0\n",
       "sex              0\n",
       "age            177\n",
       "sibsp            0\n",
       "parch            0\n",
       "fare             0\n",
       "embarked         2\n",
       "class            0\n",
       "who              0\n",
       "adult_male       0\n",
       "deck           688\n",
       "embark_town      2\n",
       "alive            0\n",
       "alone            0\n",
       "dtype: int64"
      ]
     },
     "execution_count": 10,
     "metadata": {},
     "output_type": "execute_result"
    }
   ],
   "execution_count": 10
  },
  {
   "metadata": {
    "ExecuteTime": {
     "end_time": "2024-06-27T12:11:35.420403Z",
     "start_time": "2024-06-27T12:11:35.404044Z"
    }
   },
   "cell_type": "code",
   "source": [
    "duplicates = titanic_df.duplicated()\n",
    "duplicates"
   ],
   "outputs": [
    {
     "data": {
      "text/plain": [
       "0      False\n",
       "1      False\n",
       "2      False\n",
       "3      False\n",
       "4      False\n",
       "       ...  \n",
       "886     True\n",
       "887    False\n",
       "888    False\n",
       "889    False\n",
       "890    False\n",
       "Length: 891, dtype: bool"
      ]
     },
     "execution_count": 20,
     "metadata": {},
     "output_type": "execute_result"
    }
   ],
   "execution_count": 20
  },
  {
   "cell_type": "markdown",
   "metadata": {},
   "source": [
    "### Vérifier si Incohérences dans les Valeurs \n",
    "\n",
    "Il peut y avoir des incohérences dans les données, comme des âges négatifs, des tarifs négatifs, ou des numéros de cabine incorrects..\n",
    "\n"
   ]
  },
  {
   "cell_type": "code",
   "metadata": {
    "ExecuteTime": {
     "end_time": "2024-06-27T10:56:52.654930Z",
     "start_time": "2024-06-27T10:56:52.648070Z"
    }
   },
   "source": [
    "incorrect_age = titanic_df[titanic_df['age'] < 0]\n",
    "incorrect_fare = titanic_df[titanic_df['fare'] < 0]\n",
    "\n",
    "print(\"I found these cases of negative age : \", incorrect_age)\n",
    "print(\"I found these cases of negative fare : \", incorrect_fare)\n"
   ],
   "outputs": [
    {
     "name": "stdout",
     "output_type": "stream",
     "text": [
      "I found these cases of negative age :  Empty DataFrame\n",
      "Columns: [survived, pclass, sex, age, sibsp, parch, fare, embarked, class, who, adult_male, deck, embark_town, alive, alone]\n",
      "Index: []\n",
      "I found these cases of negative fare :  Empty DataFrame\n",
      "Columns: [survived, pclass, sex, age, sibsp, parch, fare, embarked, class, who, adult_male, deck, embark_town, alive, alone]\n",
      "Index: []\n"
     ]
    }
   ],
   "execution_count": 18
  },
  {
   "metadata": {
    "ExecuteTime": {
     "end_time": "2024-06-27T11:09:14.063914Z",
     "start_time": "2024-06-27T11:09:14.046568Z"
    }
   },
   "cell_type": "code",
   "source": [
    "# Get the list of columns with int and float data types\n",
    "numeric_columns = titanic_df.select_dtypes(include=['int64', 'float64']).columns\n",
    "\n",
    "# Check for negative values in these columns\n",
    "for column in numeric_columns:\n",
    "    negative_values = titanic_df[titanic_df[column] < 0]\n",
    "    if not negative_values.empty:\n",
    "        print(f\"Column '{column}' contains negative values:\\n\", negative_values)\n",
    "    else:\n",
    "        print(f\"Column '{column}' does not contain negative values.\")\n"
   ],
   "outputs": [
    {
     "name": "stdout",
     "output_type": "stream",
     "text": [
      "Column 'survived' does not contain negative values.\n",
      "Column 'pclass' does not contain negative values.\n",
      "Column 'age' does not contain negative values.\n",
      "Column 'sibsp' does not contain negative values.\n",
      "Column 'parch' does not contain negative values.\n",
      "Column 'fare' does not contain negative values.\n"
     ]
    }
   ],
   "execution_count": 19
  },
  {
   "cell_type": "markdown",
   "metadata": {},
   "source": [
    "### Verifier les données Aberrantes (Outliers)\n",
    "\n",
    "Des valeurs aberrantes peuvent être présentes dans certaines colonnes, par exemple, des tarifs extrêmement élevés ou des âges très élevés.\n",
    "\n"
   ]
  },
  {
   "cell_type": "code",
   "metadata": {
    "ExecuteTime": {
     "end_time": "2024-06-27T12:22:58.240475Z",
     "start_time": "2024-06-27T12:22:58.226894Z"
    }
   },
   "source": [
    "# Function to find min and max values and their counts\n",
    "def find_extremes_and_counts(df, column):\n",
    "    min_value = df[column].min()\n",
    "    max_value = df[column].max()\n",
    "    min_count = df[column].value_counts().get(min_value, 0)\n",
    "    max_count = df[column].value_counts().get(max_value, 0)\n",
    "\n",
    "    print(f\"Column '{column}':\")\n",
    "    print(f\"  Min value: {min_value}, Count: {min_count}\")\n",
    "    print(f\"  Max value: {max_value}, Count: {max_count}\")\n",
    "\n",
    "# Check for extremes in columns with int and float data types\n",
    "numeric_columns = titanic_df.select_dtypes(include=['int64', 'float64']).columns\n",
    "for column in numeric_columns:\n",
    "    find_extremes_and_counts(titanic_df, column)"
   ],
   "outputs": [
    {
     "name": "stdout",
     "output_type": "stream",
     "text": [
      "Column 'survived':\n",
      "  Min value: 0, Count: 549\n",
      "  Max value: 1, Count: 342\n",
      "Column 'pclass':\n",
      "  Min value: 1, Count: 216\n",
      "  Max value: 3, Count: 491\n",
      "Column 'age':\n",
      "  Min value: 0.42, Count: 1\n",
      "  Max value: 80.0, Count: 1\n",
      "Column 'sibsp':\n",
      "  Min value: 0, Count: 608\n",
      "  Max value: 8, Count: 7\n",
      "Column 'parch':\n",
      "  Min value: 0, Count: 678\n",
      "  Max value: 6, Count: 1\n",
      "Column 'fare':\n",
      "  Min value: 0.0, Count: 15\n",
      "  Max value: 512.3292, Count: 3\n"
     ]
    }
   ],
   "execution_count": 23
  },
  {
   "metadata": {
    "ExecuteTime": {
     "end_time": "2024-06-27T12:28:34.464106Z",
     "start_time": "2024-06-27T12:28:34.455513Z"
    }
   },
   "cell_type": "code",
   "source": [
    "# Maybe we found outliers in Fare with the hirest price of ticket - let's check it\n",
    "outlier = titanic_df[(titanic_df['fare'] == 512.3292)] \n",
    "print(outlier)"
   ],
   "outputs": [
    {
     "name": "stdout",
     "output_type": "stream",
     "text": [
      "     survived  pclass     sex   age  sibsp  parch      fare embarked  class  \\\n",
      "258         1       1  female  35.0      0      0  512.3292        C  First   \n",
      "679         1       1    male  36.0      0      1  512.3292        C  First   \n",
      "737         1       1    male  35.0      0      0  512.3292        C  First   \n",
      "\n",
      "       who  adult_male deck embark_town alive  alone  \n",
      "258  woman       False  NaN   Cherbourg   yes   True  \n",
      "679    man        True    B   Cherbourg   yes  False  \n",
      "737    man        True    B   Cherbourg   yes   True  \n"
     ]
    }
   ],
   "execution_count": 25
  },
  {
   "metadata": {},
   "cell_type": "markdown",
   "source": "###### Looking at it simply, a very wealthy family survived and no any outliers"
  },
  {
   "cell_type": "markdown",
   "metadata": {},
   "source": [
    "### Vérifier les Doublons \n",
    "\n",
    "\n",
    "Il peut y avoir des lignes en double dans le dataset, ce qui signifie que les mêmes données apparaissent plusieurs fois et il faut donc les supprimer"
   ]
  },
  {
   "metadata": {},
   "cell_type": "code",
   "outputs": [
    {
     "name": "stdout",
     "output_type": "stream",
     "text": [
      "\n",
      "Lignes en double :\n",
      "     survived  pclass     sex   age  sibsp  parch     fare embarked   class  \\\n",
      "47          1       3  female   NaN      0      0   7.7500        Q   Third   \n",
      "76          0       3    male   NaN      0      0   7.8958        S   Third   \n",
      "77          0       3    male   NaN      0      0   8.0500        S   Third   \n",
      "87          0       3    male   NaN      0      0   8.0500        S   Third   \n",
      "95          0       3    male   NaN      0      0   8.0500        S   Third   \n",
      "..        ...     ...     ...   ...    ...    ...      ...      ...     ...   \n",
      "870         0       3    male  26.0      0      0   7.8958        S   Third   \n",
      "877         0       3    male  19.0      0      0   7.8958        S   Third   \n",
      "878         0       3    male   NaN      0      0   7.8958        S   Third   \n",
      "884         0       3    male  25.0      0      0   7.0500        S   Third   \n",
      "886         0       2    male  27.0      0      0  13.0000        S  Second   \n",
      "\n",
      "       who  adult_male deck  embark_town alive  alone  \n",
      "47   woman       False  NaN   Queenstown   yes   True  \n",
      "76     man        True  NaN  Southampton    no   True  \n",
      "77     man        True  NaN  Southampton    no   True  \n",
      "87     man        True  NaN  Southampton    no   True  \n",
      "95     man        True  NaN  Southampton    no   True  \n",
      "..     ...         ...  ...          ...   ...    ...  \n",
      "870    man        True  NaN  Southampton    no   True  \n",
      "877    man        True  NaN  Southampton    no   True  \n",
      "878    man        True  NaN  Southampton    no   True  \n",
      "884    man        True  NaN  Southampton    no   True  \n",
      "886    man        True  NaN  Southampton    no   True  \n",
      "\n",
      "[107 rows x 15 columns]\n"
     ]
    }
   ],
   "execution_count": 21,
   "source": [
    "# Sélectionner les lignes en double dans le DataFrame\n",
    "duplicated_rows = titanic_df[duplicates]\n",
    "\n",
    "# Affichage des lignes en double\n",
    "print(\"\\nLignes en double :\")\n",
    "print(duplicated_rows)"
   ]
  },
  {
   "metadata": {
    "ExecuteTime": {
     "end_time": "2024-06-27T13:18:00.011196Z",
     "start_time": "2024-06-27T13:18:00.002979Z"
    }
   },
   "cell_type": "code",
   "source": [
    "# Check for duplicate rows\n",
    "duplicates = titanic_df[titanic_df.duplicated()]\n",
    "\n",
    "# Count of all duplicate rows\n",
    "print(f\"Total number of duplicate rows: {duplicates.shape[0]}\")\n"
   ],
   "outputs": [
    {
     "name": "stdout",
     "output_type": "stream",
     "text": [
      "Total number of duplicate rows: 107\n"
     ]
    }
   ],
   "execution_count": 31
  },
  {
   "cell_type": "code",
   "metadata": {
    "ExecuteTime": {
     "end_time": "2024-06-27T13:19:23.127617Z",
     "start_time": "2024-06-27T13:19:23.119946Z"
    }
   },
   "source": [
    "# Remove duplicate rows, keeping only the first occurrence\n",
    "titanic_df_cleaned = titanic_df.drop_duplicates()\n",
    "# Count of unique rows among duplicates\n",
    "print(f\"Total number of unique rows among duplicates: {titanic_df_cleaned.shape[0]}\")\n"
   ],
   "outputs": [
    {
     "name": "stdout",
     "output_type": "stream",
     "text": [
      "Total number of unique rows among duplicates: 784\n"
     ]
    }
   ],
   "execution_count": 32
  },
  {
   "cell_type": "markdown",
   "metadata": {},
   "source": [
    "### Vérifier si colonnes Inutiles \n",
    "\n",
    "Certaines colonnes peuvent contenir des données redondantes ou inutiles pour l'analyse."
   ]
  },
  {
   "cell_type": "code",
   "metadata": {
    "ExecuteTime": {
     "end_time": "2024-06-27T13:36:33.032708Z",
     "start_time": "2024-06-27T13:36:33.020035Z"
    }
   },
   "source": [
    "# Drop the specified columns\n",
    "# 'deck': Contains many missing values, making it less useful for analysis.\n",
    "# 'alive': Duplicates information already present in 'survived'.\n",
    "# 'class': Duplicates information already present in 'pclass'.\n",
    "\n",
    "columns_to_drop = ['deck', 'alive', 'class']\n",
    "titanic_df = titanic_df.drop(columns=columns_to_drop)\n",
    "# Display the remaining columns\n",
    "print(\"Remaining columns after dropping 'deck', 'alive', and 'class':\")\n",
    "print(titanic_df.columns)\n"
   ],
   "outputs": [
    {
     "name": "stdout",
     "output_type": "stream",
     "text": [
      "Remaining columns after dropping 'deck', 'alive', and 'class':\n",
      "Index(['survived', 'pclass', 'sex', 'age', 'sibsp', 'parch', 'fare',\n",
      "       'embarked', 'who', 'adult_male', 'embark_town', 'alone'],\n",
      "      dtype='object')\n"
     ]
    }
   ],
   "execution_count": 34
  },
  {
   "cell_type": "markdown",
   "metadata": {},
   "source": [
    "## Bonus\n",
    "\n",
    "**Continuez l'exploration du dataset Titanic avec d'autres axes d'analyse **\n"
   ]
  },
  {
   "cell_type": "markdown",
   "metadata": {},
   "source": [
    "\n",
    "1-Quelle est la répartition des passagers par classe (1ère, 2ème, 3ème) à bord du Titanic ?\n",
    "\n",
    "2- Quelle est la répartition des passagers par sexe à bord du Titanic ?\n",
    "\n",
    "3- Quel était l'âge moyen des passagers à bord du Titanic ? Y avait-il des passagers très jeunes ou très âgés ?\n",
    "\n",
    "4- Combien de passagers ont survécu au naufrage du Titanic ? Quelle était leur répartition par classe, sexe et âge ?\n"
   ]
  },
  {
   "cell_type": "code",
   "metadata": {
    "ExecuteTime": {
     "end_time": "2024-06-27T14:40:14.505302Z",
     "start_time": "2024-06-27T14:40:14.490200Z"
    }
   },
   "source": [
    "# 1. Distribution of passengers by class (1st, 2nd, 3rd)\n",
    "class_distribution = titanic_df['pclass'].value_counts().sort_index()\n",
    "print(\"Distribution of passengers by class:\\n\", class_distribution)\n",
    "print(\"----------------------------------------------------------------------------------\")\n",
    "\n",
    "# 2. Distribution of passengers by sex\n",
    "sex_distribution = titanic_df['sex'].value_counts()\n",
    "print(\"Distribution of passengers by sex:\\n\", sex_distribution)\n",
    "print(\"----------------------------------------------------------------------------------\")\n",
    "\n",
    "# 3. Average age of passengers and age distribution\n",
    "average_age = titanic_df['age'].mean()\n",
    "#age_distribution = titanic_df['age'].describe()\n",
    "print(\"Average age of passengers:\", average_age)\n",
    "print(\"The youngest passenger's age was \", titanic_df['age'].min(), \"years old\")\n",
    "print(\"The oldest passenger's age was \", titanic_df['age'].max(), \"years old\")\n",
    "print(\"----------------------------------------------------------------------------------\")\n",
    "\n",
    "#print(\"Age distribution of passengers:\\n\", age_distribution)\n",
    "\n",
    "# 4. Number of passengers who survived and their distribution by class, sex, and age\n",
    "survived_count = titanic_df['survived'].value_counts()\n",
    "print(\"Number of passengers who survived:\\n\", survived_count)\n",
    "print(\"----------------------------------------------------------------------------------\")\n",
    "\n",
    "##Filter the DataFrame to include only passengers who survived\n",
    "survivors_df = titanic_df[titanic_df['survived'] == 1]\n",
    "\n",
    "# Distribution of survivors by class\n",
    "survived_by_class = survivors_df['pclass'].value_counts().sort_index()\n",
    "print(\"Distribution of passengers who survived by class:\\n\", survived_by_class)\n",
    "print(\"----------------------------------------------------------------------------------\")\n",
    "\n",
    "# Distribution of survivors by sex\n",
    "survived_by_sex = survivors_df['sex'].value_counts()\n",
    "print(\"Distribution of passengers who survived by sex:\\n\", survived_by_sex)\n",
    "print(\"----------------------------------------------------------------------------------\")\n",
    "print(\"The youngest survived passenger's age was \", survivors_df['age'].min(), \"years old\")\n",
    "print(\"The oldest survived passenger's age was \", survivors_df['age'].max(), \"years old\")\n"
   ],
   "outputs": [
    {
     "name": "stdout",
     "output_type": "stream",
     "text": [
      "Distribution of passengers by class:\n",
      " pclass\n",
      "1    216\n",
      "2    184\n",
      "3    491\n",
      "Name: count, dtype: int64\n",
      "----------------------------------------------------------------------------------\n",
      "Distribution of passengers by sex:\n",
      " sex\n",
      "male      577\n",
      "female    314\n",
      "Name: count, dtype: int64\n",
      "----------------------------------------------------------------------------------\n",
      "Average age of passengers: 29.69911764705882\n",
      "The youngest passenger's age was  0.42 years old\n",
      "The oldest passenger's age was  80.0 years old\n",
      "----------------------------------------------------------------------------------\n",
      "Number of passengers who survived:\n",
      " survived\n",
      "0    549\n",
      "1    342\n",
      "Name: count, dtype: int64\n",
      "----------------------------------------------------------------------------------\n",
      "Distribution of passengers who survived by class:\n",
      " pclass\n",
      "1    136\n",
      "2     87\n",
      "3    119\n",
      "Name: count, dtype: int64\n",
      "----------------------------------------------------------------------------------\n",
      "Distribution of passengers who survived by sex:\n",
      " sex\n",
      "female    233\n",
      "male      109\n",
      "Name: count, dtype: int64\n",
      "----------------------------------------------------------------------------------\n",
      "The youngest survived passenger's age was  0.42 years old\n",
      "The oldest survived passenger's age was  80.0 years old\n"
     ]
    }
   ],
   "execution_count": 43
  },
  {
   "cell_type": "code",
   "execution_count": null,
   "metadata": {},
   "outputs": [],
   "source": []
  }
 ],
 "metadata": {
  "kernelspec": {
   "display_name": "Python 3 (ipykernel)",
   "language": "python",
   "name": "python3"
  },
  "language_info": {
   "codemirror_mode": {
    "name": "ipython",
    "version": 3
   },
   "file_extension": ".py",
   "mimetype": "text/x-python",
   "name": "python",
   "nbconvert_exporter": "python",
   "pygments_lexer": "ipython3",
   "version": "3.9.12"
  },
  "toc": {
   "base_numbering": 1,
   "nav_menu": {},
   "number_sections": true,
   "sideBar": true,
   "skip_h1_title": true,
   "title_cell": "Table of Contents",
   "title_sidebar": "Contents",
   "toc_cell": false,
   "toc_position": {
    "height": "617.333px",
    "left": "21px",
    "top": "154.806px",
    "width": "182.727px"
   },
   "toc_section_display": true,
   "toc_window_display": false
  }
 },
 "nbformat": 4,
 "nbformat_minor": 1
}
